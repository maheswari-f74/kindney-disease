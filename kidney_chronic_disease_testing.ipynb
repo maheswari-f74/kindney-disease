{
  "nbformat": 4,
  "nbformat_minor": 0,
  "metadata": {
    "colab": {
      "provenance": [],
      "authorship_tag": "ABX9TyMxzq/sWWzQ635SMA8u/K2n",
      "include_colab_link": true
    },
    "kernelspec": {
      "name": "python3",
      "display_name": "Python 3"
    },
    "language_info": {
      "name": "python"
    }
  },
  "cells": [
    {
      "cell_type": "markdown",
      "metadata": {
        "id": "view-in-github",
        "colab_type": "text"
      },
      "source": [
        "<a href=\"https://colab.research.google.com/github/maheswari-f74/kindney-disease/blob/main/kidney_chronic_disease_testing.ipynb\" target=\"_parent\"><img src=\"https://colab.research.google.com/assets/colab-badge.svg\" alt=\"Open In Colab\"/></a>"
      ]
    },
    {
      "cell_type": "code",
      "execution_count": 1,
      "metadata": {
        "id": "i4sFMaOiZwBg"
      },
      "outputs": [],
      "source": [
        "labels = ['id', 'age', 'bp', 'sg', 'al', 'rbc', 'pc', 'pcc', 'bgr', 'bu', 'sc',\n",
        "       'sod', 'pot', 'hemo', 'pcv', 'htn', 'dm', 'appet', 'pe', 'ane']\n"
      ]
    },
    {
      "cell_type": "code",
      "source": [
        "input_data = []\n",
        "for label in labels:\n",
        "    input_data.append(float(input(label + ': ')))\n",
        "input_data"
      ],
      "metadata": {
        "colab": {
          "base_uri": "https://localhost:8080/"
        },
        "id": "1QHzw1vrZ-9z",
        "outputId": "8739b382-2950-4320-9eb7-93c634adc9b6"
      },
      "execution_count": 8,
      "outputs": [
        {
          "name": "stdout",
          "output_type": "stream",
          "text": [
            "id: 1\n",
            "age: 25\n",
            "bp: 0\n",
            "sg: 0\n",
            "al: 0\n",
            "rbc: 0\n",
            "pc: 0\n",
            "pcc: 0\n",
            "bgr: 0\n",
            "bu: 0\n",
            "sc: 0\n",
            "sod: 0\n",
            "pot: 0\n",
            "hemo: 0\n",
            "pcv: 0\n",
            "htn: 0\n",
            "dm: 0\n",
            "appet: 0\n",
            "pe: 0\n",
            "ane: 0\n"
          ]
        },
        {
          "output_type": "execute_result",
          "data": {
            "text/plain": [
              "[1.0,\n",
              " 25.0,\n",
              " 0.0,\n",
              " 0.0,\n",
              " 0.0,\n",
              " 0.0,\n",
              " 0.0,\n",
              " 0.0,\n",
              " 0.0,\n",
              " 0.0,\n",
              " 0.0,\n",
              " 0.0,\n",
              " 0.0,\n",
              " 0.0,\n",
              " 0.0,\n",
              " 0.0,\n",
              " 0.0,\n",
              " 0.0,\n",
              " 0.0,\n",
              " 0.0]"
            ]
          },
          "metadata": {},
          "execution_count": 8
        }
      ]
    },
    {
      "cell_type": "code",
      "source": [
        "from keras.models import load_model\n",
        "import numpy as np\n",
        "\n",
        "model = load_model('/content/kidney.h5')\n",
        "\n",
        "in_array = np.array([input_data])\n",
        "result = model.predict(in_array)\n",
        "\n",
        "\n",
        "if result > 0.5:\n",
        "  print('You will get kidney disease')\n",
        "else:\n",
        "  print('you are Safe')"
      ],
      "metadata": {
        "colab": {
          "base_uri": "https://localhost:8080/"
        },
        "id": "8v3hGPiiaeqg",
        "outputId": "fa6ea08c-9910-49f1-abd0-845a50d703b1"
      },
      "execution_count": 9,
      "outputs": [
        {
          "output_type": "stream",
          "name": "stderr",
          "text": [
            "WARNING:absl:Compiled the loaded model, but the compiled metrics have yet to be built. `model.compile_metrics` will be empty until you train or evaluate the model.\n"
          ]
        },
        {
          "output_type": "stream",
          "name": "stdout",
          "text": [
            "\u001b[1m1/1\u001b[0m \u001b[32m━━━━━━━━━━━━━━━━━━━━\u001b[0m\u001b[37m\u001b[0m \u001b[1m0s\u001b[0m 78ms/step\n",
            "You will get kidney disease\n"
          ]
        }
      ]
    },
    {
      "cell_type": "code",
      "source": [],
      "metadata": {
        "id": "cQNM7IGSasQc"
      },
      "execution_count": null,
      "outputs": []
    }
  ]
}